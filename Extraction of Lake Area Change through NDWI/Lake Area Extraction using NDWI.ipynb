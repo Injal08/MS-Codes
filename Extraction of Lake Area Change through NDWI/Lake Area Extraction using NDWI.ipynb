{
 "cells": [
  {
   "cell_type": "markdown",
   "id": "390f01b7",
   "metadata": {},
   "source": [
    "## Project title: Extraction of Lake Area Change through NDWI\n",
    "* Author: Injal Bhattarai"
   ]
  },
  {
   "cell_type": "markdown",
   "id": "4e2ed762",
   "metadata": {},
   "source": [
    "## Abstract\n",
    "* The main purpose of the program is to reduce the hefty work and actually calculate the lake area change with precision in python environment. This program uses the NDWI index to calculate the lake area.\n",
    "* NDWI is used to assess alterations in water body composition. NDWI utilizes green and near infrared bands to emphasize water bodies because water heavily absorbs light in the visible to infrared em spectrum. \n",
    "* NDWI can be calculated from the landsat images. Green and Near Infrared bands are used to find the value of each pixel. Formula for NDWI is (Green – NIR)/(Green + NIR)\n",
    "* Pixel values greater than 2 and less than 1 denote the water content area. \n",
    "* External python packages such as geemap, ee, wx along with a few functions such as getfilename and timespan are used in this program. \n",
    "* Users have to upload the shapefile of the area they want to calculate the NDWI and input the dates of which they want to find the area of the lake.\n",
    "* This program calculates the lake area by multiplying the NDWI pixels with the resolution of the ee image. Finally lake area of two different time period can be calculated and lake area change can be discovered. "
   ]
  },
  {
   "cell_type": "markdown",
   "id": "4422f46a",
   "metadata": {},
   "source": [
    "## Introduction\n",
    "* The main purpose of the program is to calculate the total lake area change by reducing the hefty work with precision in python environment. \n",
    "* Through this program, any user can actually find the area with water content of the study area. It can be used in micro research such as moisture content in tree canopy to finding river pathways. \n",
    "* Calculation of NDWI is a hefty procedure and is generally done in GIS softwares with large number of consecutive procedures. \n",
    "\n",
    "* Missing even one of the steps leads to the miscalculation of the whole process hence programming makes it a lot more user friendly and saves a lot of time.\n",
    "* Packages used in this program: \n",
    "    Geemap used in this program is a package for Google Earth Engine (GEE), a cloud computing platform with a multi-petabyte database of satellite images and geographical information. ee package in Python programming enables developers to communicate with Google Earth Engine. WX helps the program to take input from the user. "
   ]
  },
  {
   "cell_type": "markdown",
   "id": "fd9d4bf5",
   "metadata": {},
   "source": [
    "## Study Area and Data\n",
    "* Study area will be defined by the user with the shapefile they upload. In this program, Rara lake of Nepal is used as sample data to find the lake area from 2013 to 2022. Shapefile was created from ArcGIS pro and used in this program. \n",
    "* Landsat images will be assessd from Google Earth Engine. "
   ]
  },
  {
   "cell_type": "markdown",
   "id": "3309551c",
   "metadata": {},
   "source": [
    "## Project Design and Processes\n",
    "1. User inputs the shapefile, study time periods and cloud cover.\n",
    "2. Program filters out the landsat image accroding to the cloud cover and date.\n",
    "3. The program uses Landsat8 images if the study period ranges from 2013 to 2022 (recent time) and uses Landsat 5 image if the study period ranges from 1984 to 2011.\n",
    "4. The NDWI is calculated from the ladsat images where the study area is defined by the user. \n",
    "5. The area of the lake is calculated from the produced image where the total area = total number of pixels having value >2 * area of the resolution of the landsat image.\n",
    "6. Lake area is displayed on top of the ee map as the output of the image.\n",
    "7. The lake area of both the input years are displayed in sq.m separately and the difference separately. \n",
    "\n",
    "* The functions used in this program are:\n",
    "1. getfilename: This function returns a list of filenames and filepath chosen in the dialog box(the shapefile and its location)\n",
    "2. time_span: This function returns the study period input by the user, filters the landsat images as input by the user, calculates NDWI, uses visual parameters to display the NDWI image and gives the output as the lake area change in sq.m. "
   ]
  },
  {
   "cell_type": "markdown",
   "id": "c252be07",
   "metadata": {},
   "source": [
    "## Results and Discussion\n",
    "* The program is mainly dedicated to find the lake area but it can also be used to find out the area of water presence as index NDWI actually gives us the reflection of the water content. Calculation of NDWI in python can save hours of manual work from the GIS and the precision can actually be unparalleled.  "
   ]
  },
  {
   "cell_type": "code",
   "execution_count": 1,
   "id": "40bf7765",
   "metadata": {},
   "outputs": [],
   "source": [
    "import geemap"
   ]
  },
  {
   "cell_type": "code",
   "execution_count": 2,
   "id": "ecb45416",
   "metadata": {},
   "outputs": [],
   "source": [
    "import ee\n",
    "import wx"
   ]
  },
  {
   "cell_type": "code",
   "execution_count": 3,
   "id": "7f8574e3",
   "metadata": {
    "scrolled": true
   },
   "outputs": [
    {
     "data": {
      "application/vnd.jupyter.widget-view+json": {
       "model_id": "6d6c6bfb5d864e60b555c9176dd8e539",
       "version_major": 2,
       "version_minor": 0
      },
      "text/plain": [
       "Map(center=[40, -100], controls=(WidgetControl(options=['position', 'transparent_bg'], widget=HBox(children=(T…"
      ]
     },
     "metadata": {},
     "output_type": "display_data"
    }
   ],
   "source": [
    "Map = geemap.Map(center=[40,-100], zoom=4)\n",
    "Map\n"
   ]
  },
  {
   "cell_type": "code",
   "execution_count": 4,
   "id": "436a1ee7",
   "metadata": {},
   "outputs": [],
   "source": [
    "def getfilename():\n",
    "    '''Returns a list of filenames and filepath chosen in the dialog box'''\n",
    "    app = wx.App()\n",
    "    frame = wx.Frame(None, -1, 'win.py')\n",
    "    frame.SetDimensions(0,0,200,50)\n",
    "\n",
    "    openFileDialog = wx.FileDialog(frame, \"Open\", \"\", \"\", \n",
    "          \"\", \n",
    "           wx.FD_OPEN | wx.FD_FILE_MUST_EXIST)\n",
    "\n",
    "    openFileDialog.ShowModal()\n",
    "    return openFileDialog.GetPath()"
   ]
  },
  {
   "cell_type": "code",
   "execution_count": 5,
   "id": "43bf1b12",
   "metadata": {},
   "outputs": [],
   "source": [
    "collection_l8 = ee.ImageCollection('LANDSAT/LC08/C02/T1_TOA'); \n",
    "collection_l5 = ee.ImageCollection(\"LANDSAT/LT05/C02/T1_TOA\"); \n",
    "'''Takes input as satellite images and return image collection'''\n",
    "\n",
    "outline_shp = getfilename()\n",
    "outline_ee = geemap.shp_to_ee(outline_shp)\n",
    "Map.addLayer(outline_ee, {}, \"MAP\")\n",
    "\n",
    "Map.centerObject(outline_ee, 13)"
   ]
  },
  {
   "cell_type": "code",
   "execution_count": 6,
   "id": "b633dfbf",
   "metadata": {},
   "outputs": [
    {
     "name": "stdout",
     "output_type": "stream",
     "text": [
      "Enter the first year: 2013\n",
      "Enter the second year: 2022\n",
      "Enter the preferred cloud cover:\n",
      "(Default value 10 will be used if input is not provided)\n",
      "\n",
      "The lake area in 2013 year in sq.m. is: 10406663.47380443\n",
      "The lake area in 2022 year in sq.m. is: 10369682.258178711\n",
      "The change of lake area from 2013 year to 2022 year in sq.m. is: 36981.215625718236\n"
     ]
    },
    {
     "data": {
      "text/plain": [
       "36981.215625718236"
      ]
     },
     "execution_count": 6,
     "metadata": {},
     "output_type": "execute_result"
    }
   ],
   "source": [
    "def time_span(start, end):\n",
    "    '''Takes input as start year and end year from the user and returns the area change in float'''\n",
    "    years = [int(start), int(end)]\n",
    "    yearList = []\n",
    "    areaList = []\n",
    "    cloud_cover = int(input(\"Enter the preferred cloud cover:\\n(Default value 10 will be used if input is not provided)\\n\") or \"10\")\n",
    "    for year in years:\n",
    "        if int(year) < 2012:\n",
    "            image = collection_l5\n",
    "        elif int(year) > 2012 & int(year) < 2023:\n",
    "            image = collection_l8\n",
    "        else:\n",
    "            image = None\n",
    "        if image == None:\n",
    "            print (\"Enter a valid date\")\n",
    "            return \n",
    "        else:\n",
    "            yearList.append(year)\n",
    "            collection = ee.ImageCollection(image).filter(ee.Filter.lt('CLOUD_COVER', cloud_cover)).filterBounds(outline_ee)\n",
    "            select_date = collection.filterDate(str(year)+\"-01-01\", str(year)+\"-12-30\")\n",
    "            clip = select_date.median().clip(outline_ee)\n",
    "\n",
    "            visArgs = {\"min\": -0.44, \"max\": 0.08, \"palette\": ['ff3f06', 'f0ff06', '08ff26', '0afff4', '0625ff']}\n",
    "            ndwi =  clip.normalizedDifference(['B3', 'B5']).rename('NDWI')\n",
    "            '''normalizedDifference is inbuilt geemap function which takes two bands (B3 and B5) input to compute the \n",
    "            normalized value'''\n",
    "            Map.addLayer(ndwi, visArgs, \"NDWI_\"+str(year))\n",
    "            ndwi_gt = 0.2;\n",
    "            water = ndwi.gt(ndwi_gt);\n",
    "            mask = clip.updateMask(water).addBands(ndwi);\n",
    "            area = ee.Image.pixelArea();\n",
    "            lakeArea = water.multiply(area).rename('area')\n",
    "            imgbands = mask.addBands(lakeArea);\n",
    "            stats = lakeArea.reduceRegion(reducer=ee.Reducer.sum(), geometry=outline_ee, scale=30)\n",
    "            area = ee.Number(stats.get('area')).getInfo()\n",
    "            areaList.append(area)\n",
    "    \n",
    "    area_change = areaList[0]-areaList[1]\n",
    "    print(\"The lake area in {} year in sq.m. is:\".format(yearList[0]), areaList[0])\n",
    "    print(\"The lake area in {} year in sq.m. is:\".format(yearList[1]), areaList[1])\n",
    "    print(\"The change of lake area from {} year to {} year in sq.m. is:\".format(yearList[0], yearList[1]), area_change)\n",
    "    return area_change\n",
    "        \n",
    "start_year = input(\"Enter the first year: \")\n",
    "end_year = input(\"Enter the second year: \")\n",
    "time_span(start_year, end_year)\n"
   ]
  },
  {
   "cell_type": "code",
   "execution_count": null,
   "id": "2efd0840",
   "metadata": {},
   "outputs": [],
   "source": []
  }
 ],
 "metadata": {
  "kernelspec": {
   "display_name": "Python 3 (ipykernel)",
   "language": "python",
   "name": "python3"
  },
  "language_info": {
   "codemirror_mode": {
    "name": "ipython",
    "version": 3
   },
   "file_extension": ".py",
   "mimetype": "text/x-python",
   "name": "python",
   "nbconvert_exporter": "python",
   "pygments_lexer": "ipython3",
   "version": "3.10.9"
  }
 },
 "nbformat": 4,
 "nbformat_minor": 5
}
