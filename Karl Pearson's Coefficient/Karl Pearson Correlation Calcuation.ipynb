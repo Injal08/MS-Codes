{
 "cells": [
  {
   "cell_type": "code",
   "execution_count": 1,
   "id": "a528963b",
   "metadata": {},
   "outputs": [],
   "source": [
    "import pandas as pd"
   ]
  },
  {
   "cell_type": "code",
   "execution_count": 9,
   "id": "380001e6",
   "metadata": {},
   "outputs": [
    {
     "name": "stdout",
     "output_type": "stream",
     "text": [
      "Correlation between Change and Temperature : 0.5305197876911292\n"
     ]
    }
   ],
   "source": [
    "\n",
    "# Define Excel file path (replace with your actual file path)\n",
    "file_path = r\"G:\\Thesis\\Excel\\Final.xlsx\"\n",
    "sheet_name = 'Sheet1'\n",
    "data = pd.read_excel(file_path, sheet_name=sheet_name)\n",
    "\n",
    "\n",
    "column1 = 'Year'  \n",
    "column2 = 'PPT' \n",
    "column3 = 'Temperature'\n",
    "column4 = 'Change'\n",
    "correlation = data[column1].corr(data[column2])\n",
    "\n",
    "# Calculate correlation coefficient, ignoring null values (dropna())\n",
    "correlation = data[[column4, column3]].dropna().corr(method='pearson')  # Use 'spearman' for non-parametric correlation\n",
    "\n",
    "# Display correlation (if correlation exists)\n",
    "if not correlation.empty:\n",
    "    print(\"Correlation between\", column4, \"and\", column3, \":\", correlation.iloc[0, 1])\n",
    "else:\n",
    "    print(\"Insufficient data for correlation calculation (all NaN values)\")\n",
    "\n",
    "\n"
   ]
  },
  {
   "cell_type": "code",
   "execution_count": 12,
   "id": "585735b5",
   "metadata": {},
   "outputs": [
    {
     "name": "stdout",
     "output_type": "stream",
     "text": [
      "                  PPT  Temperature    Change\n",
      "PPT          1.000000     0.101516  0.386997\n",
      "Temperature  0.101516     1.000000  0.530520\n",
      "Change       0.386997     0.530520  1.000000\n"
     ]
    }
   ],
   "source": [
    "\n",
    "\n",
    "# Replace 'your_file.xlsx' with the actual path to your Excel file\n",
    "file_path = r\"G:\\Thesis\\Excel\\Final.xlsx\"\n",
    "sheet_name = 'Sheet1'\n",
    "\n",
    "# Specify the column names for area change, precipitation, and temperature change\n",
    "change_col = 'Change'  # Replace with your actual column name\n",
    "ppt_col = 'PPT'  # Replace with your actual column name\n",
    "temperature_col = 'Temperature'  # Replace with your actual column name\n",
    "\n",
    "# Read the data from the Excel file using the specified column names\n",
    "df = pd.read_excel(file_path, usecols=[change_col, ppt_col, temperature_col])\n",
    "\n",
    "# Calculate correlation coefficients\n",
    "correlation = df.corr()\n",
    "\n",
    "# Print the correlation matrix\n",
    "print(correlation)\n"
   ]
  },
  {
   "cell_type": "code",
   "execution_count": null,
   "id": "c3fc2943",
   "metadata": {},
   "outputs": [],
   "source": []
  }
 ],
 "metadata": {
  "kernelspec": {
   "display_name": "Python 3 (ipykernel)",
   "language": "python",
   "name": "python3"
  },
  "language_info": {
   "codemirror_mode": {
    "name": "ipython",
    "version": 3
   },
   "file_extension": ".py",
   "mimetype": "text/x-python",
   "name": "python",
   "nbconvert_exporter": "python",
   "pygments_lexer": "ipython3",
   "version": "3.10.9"
  }
 },
 "nbformat": 4,
 "nbformat_minor": 5
}
