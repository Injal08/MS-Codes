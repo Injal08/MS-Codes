{
 "cells": [
  {
   "cell_type": "code",
   "execution_count": 1,
   "id": "54fede81",
   "metadata": {},
   "outputs": [],
   "source": [
    "import xarray as xr\n",
    "##This library for working with labeled multi-dimensional arrays, commonly used for datasets like NetCDF, GRIB, HDF, or Zarr.\n",
    "\n"
   ]
  },
  {
   "cell_type": "code",
   "execution_count": 3,
   "id": "6d174659",
   "metadata": {},
   "outputs": [
    {
     "name": "stdout",
     "output_type": "stream",
     "text": [
      "Requirement already satisfied: netCDF4 in c:\\users\\goone\\anaconda3\\lib\\site-packages (1.6.4)\n",
      "Requirement already satisfied: pandas in c:\\users\\goone\\anaconda3\\lib\\site-packages (1.5.3)\n",
      "Requirement already satisfied: xlsxwriter in c:\\users\\goone\\anaconda3\\lib\\site-packages (3.2.0)\n",
      "Requirement already satisfied: openpyxl in c:\\users\\goone\\anaconda3\\lib\\site-packages (3.0.10)\n",
      "Requirement already satisfied: certifi in c:\\users\\goone\\anaconda3\\lib\\site-packages (from netCDF4) (2023.11.17)\n",
      "Requirement already satisfied: numpy in c:\\users\\goone\\anaconda3\\lib\\site-packages (from netCDF4) (1.23.5)\n",
      "Requirement already satisfied: cftime in c:\\users\\goone\\anaconda3\\lib\\site-packages (from netCDF4) (1.6.2)\n",
      "Requirement already satisfied: python-dateutil>=2.8.1 in c:\\users\\goone\\anaconda3\\lib\\site-packages (from pandas) (2.8.2)\n",
      "Requirement already satisfied: pytz>=2020.1 in c:\\users\\goone\\anaconda3\\lib\\site-packages (from pandas) (2022.7)\n",
      "Requirement already satisfied: et_xmlfile in c:\\users\\goone\\anaconda3\\lib\\site-packages (from openpyxl) (1.1.0)\n",
      "Requirement already satisfied: six>=1.5 in c:\\users\\goone\\anaconda3\\lib\\site-packages (from python-dateutil>=2.8.1->pandas) (1.16.0)\n",
      "Note: you may need to restart the kernel to use updated packages.\n"
     ]
    }
   ],
   "source": [
    "pip install netCDF4 pandas xlsxwriter openpyxl\n"
   ]
  },
  {
   "cell_type": "code",
   "execution_count": 1,
   "id": "b8606f91",
   "metadata": {},
   "outputs": [
    {
     "ename": "NameError",
     "evalue": "name 'xr' is not defined",
     "output_type": "error",
     "traceback": [
      "\u001b[1;31m---------------------------------------------------------------------------\u001b[0m",
      "\u001b[1;31mNameError\u001b[0m                                 Traceback (most recent call last)",
      "Cell \u001b[1;32mIn[1], line 1\u001b[0m\n\u001b[1;32m----> 1\u001b[0m DS \u001b[38;5;241m=\u001b[39m \u001b[43mxr\u001b[49m\u001b[38;5;241m.\u001b[39mopen_dataset(\u001b[38;5;124mr\u001b[39m\u001b[38;5;124m\"\u001b[39m\u001b[38;5;124mYou_File_Location\u001b[39m\u001b[38;5;124m\"\u001b[39m)\n",
      "\u001b[1;31mNameError\u001b[0m: name 'xr' is not defined"
     ]
    }
   ],
   "source": [
    "DS = xr.open_dataset(r\"You_File_Location\")"
   ]
  },
  {
   "cell_type": "code",
   "execution_count": null,
   "id": "9b2423a5",
   "metadata": {},
   "outputs": [],
   "source": [
    "DS.to_dataframe().to_csv(r\"Output_Location.csv\")"
   ]
  }
 ],
 "metadata": {
  "kernelspec": {
   "display_name": "Python 3 (ipykernel)",
   "language": "python",
   "name": "python3"
  },
  "language_info": {
   "codemirror_mode": {
    "name": "ipython",
    "version": 3
   },
   "file_extension": ".py",
   "mimetype": "text/x-python",
   "name": "python",
   "nbconvert_exporter": "python",
   "pygments_lexer": "ipython3",
   "version": "3.10.9"
  }
 },
 "nbformat": 4,
 "nbformat_minor": 5
}
